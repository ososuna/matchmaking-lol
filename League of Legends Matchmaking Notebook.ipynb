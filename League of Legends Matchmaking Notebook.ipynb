{
 "cells": [
  {
   "cell_type": "markdown",
   "metadata": {},
   "source": [
    "# League of Legends Matchmaking Notebook\n",
    "Interim project for the subject of Data Structures in Universidad Anáhuac Querétaro"
   ]
  },
  {
   "cell_type": "code",
   "execution_count": 41,
   "metadata": {},
   "outputs": [],
   "source": [
    "import numpy as np\n",
    "import matplotlib.pyplot as plt\n",
    "import random\n",
    "from classes import *\n",
    "from IPython.display import Image"
   ]
  },
  {
   "cell_type": "markdown",
   "metadata": {},
   "source": [
    "## Solution Description"
   ]
  },
  {
   "cell_type": "markdown",
   "metadata": {},
   "source": [
    "### Class Player\n",
    "Class that represents a League of Legends player. This function contains the statistics for a player and the function to calculate his MMR."
   ]
  },
  {
   "cell_type": "code",
   "execution_count": 42,
   "metadata": {},
   "outputs": [
    {
     "name": "stdout",
     "output_type": "stream",
     "text": [
      "\n",
      "pinguinodelanasa\n",
      "Bronze 1\n",
      "Level 150\n",
      "Win Rate: 55%\n",
      "Primary lane: adc\n",
      "Secondary lane: jg\n"
     ]
    }
   ],
   "source": [
    "p1 = Player('pinguinodelanasa', 150, 55, 'Bronze', 1, True, 'adc', 'jg')\n",
    "p2 = Player('Charls Alonso', 146, 50, 'Bronze', 2, False, 'sup', 'top')\n",
    "p3 = Player('Johiliwisky18', 98, 58, 'Silver', 3, True, 'jg', 'mid')\n",
    "p4 = Player('nigaalan', 159, 56, 'Gold', 4, True, 'top', 'jg')\n",
    "p5 = Player('Osiris', 365, 60, 'Gold', 1, True, 'mid', 'adc')\n",
    "print(p1)"
   ]
  },
  {
   "cell_type": "markdown",
   "metadata": {},
   "source": [
    "#### MMR\n",
    "The Matchmaking Ranking is the score which is calculated in order to create a matched game. The class Player includes the method for calculating each player's MMR."
   ]
  },
  {
   "cell_type": "code",
   "execution_count": 43,
   "metadata": {},
   "outputs": [],
   "source": [
    "# Method inside the Player class for calculating MMR\n",
    "def calculate_mmr(self):\n",
    "    # First, you obtain MMR depending on your division and your rank\n",
    "    if self.division == 'Iron':\n",
    "        self.mmr = 200\n",
    "        if self.rank == 1:\n",
    "            self.mmr += 400\n",
    "        elif self.rank == 2:\n",
    "            self.mmr += 300\n",
    "        elif self.rank == 3:\n",
    "            self.mmr += 200\n",
    "        elif self.rank == 4:\n",
    "            self.mmr += 100\n",
    "        self.mmr += (self.mmr*.1) * (self.winrate*.01)\n",
    "    elif self.division == 'Bronze':\n",
    "        self.mmr = 800\n",
    "        if self.rank == 1:\n",
    "            self.mmr += 160\n",
    "        elif self.rank == 2:\n",
    "            self.mmr += 120\n",
    "        elif self.rank == 3:\n",
    "            self.mmr += 80\n",
    "        elif self.rank == 4:\n",
    "            self.mmr += 40\n",
    "    elif self.division == 'Silver':\n",
    "        self.mmr = 1000\n",
    "        if self.rank == 1:\n",
    "            self.mmr += 160\n",
    "        elif self.rank == 2:\n",
    "            self.mmr += 120\n",
    "        elif self.rank == 3:\n",
    "            self.mmr += 80\n",
    "        elif self.rank == 4:\n",
    "            self.mmr += 40\n",
    "    elif self.division == 'Gold':\n",
    "        self.mmr = 1200\n",
    "        if self.rank == 1:\n",
    "            self.mmr += 200\n",
    "        elif self.rank == 2:\n",
    "            self.mmr += 150\n",
    "        elif self.rank == 3:\n",
    "            self.mmr += 100\n",
    "        elif self.rank == 4:\n",
    "            self.mmr += 50\n",
    "    elif self.division == 'Platinum':\n",
    "        self.mmr = 1500\n",
    "        if self.rank == 1:\n",
    "            self.mmr += 200\n",
    "        elif self.rank == 2:\n",
    "            self.mmr += 150\n",
    "        elif self.rank == 3:\n",
    "            self.mmr += 100\n",
    "        elif self.rank == 4:\n",
    "            self.mmr += 50\n",
    "    elif self.division == 'Diamond':\n",
    "        self.mmr = 1800\n",
    "        if self.rank == 1:\n",
    "            self.mmr += 240\n",
    "        elif self.rank == 2:\n",
    "            self.mmr += 180\n",
    "        elif self.rank == 3:\n",
    "            self.mmr += 120\n",
    "        elif self.rank == 4:\n",
    "            self.mmr += 60\n",
    "    elif self.division == 'Master':\n",
    "        self.mmr = 2200\n",
    "    elif self.division == 'Grand Master':\n",
    "        self.mmr = 2400\n",
    "    elif self.division == 'Challenger':\n",
    "        self.mmr = 2600\n",
    "    \n",
    "    # The MMR you obtain or lose is based on the 20% of your actual MMR \n",
    "    \n",
    "    # You obtain extra MMR if your win rate is 50% or higher\n",
    "    if self.winrate >= 50:\n",
    "        # You obtain your win rate times the 20% of your MMR\n",
    "        self.mmr += (self.mmr*.2) * (self.winrate*.01)\n",
    "    # In the other side, you lose MMR if your win rate is below 50%\n",
    "    else:\n",
    "        # You lose 50% - your win rate times the 20% of your MMR\n",
    "        self.mmr -= (self.mmr*.2) * ((50 - self.winrate) *.01)\n",
    "\n",
    "    return self.mmr"
   ]
  },
  {
   "cell_type": "markdown",
   "metadata": {},
   "source": [
    "### Class Team\n",
    "Class that represents a team of five players. One of each position: top, jungle, mid, adc and support."
   ]
  },
  {
   "cell_type": "markdown",
   "metadata": {},
   "source": [
    "#### Arrays\n",
    "The five players are stored in an array with the fixed size of 5. The array will not be resized."
   ]
  },
  {
   "cell_type": "code",
   "execution_count": 5,
   "metadata": {},
   "outputs": [],
   "source": [
    "class Team:\n",
    "\n",
    "    def __init__(self, id):\n",
    "        self.__id = id\n",
    "        self.__top = None\n",
    "        self.__jg = None\n",
    "        self.__mid = None\n",
    "        self.__adc = None\n",
    "        self.__sup = None\n",
    "        self.__avg_mmr = None\n",
    "        # We define the attribute arr_team with an array of the size of 5\n",
    "        self.__arr_team = np.array([0,0,0,0,0]) \n",
    "    \n",
    "    @property\n",
    "    def id(self): \n",
    "        return self.__id\n",
    "    \n",
    "    @property\n",
    "    def top(self): \n",
    "        return self.__top\n",
    "\n",
    "    @top.setter \n",
    "    def top(self, top):\n",
    "        self.__top = top\n",
    "    \n",
    "    @property\n",
    "    def jg(self): \n",
    "        return self.__jg\n",
    "\n",
    "    @jg.setter \n",
    "    def jg(self, jg):\n",
    "        self.__jg = jg\n",
    "\n",
    "    @property\n",
    "    def mid(self): \n",
    "        return self.__mid\n",
    "\n",
    "    @mid.setter \n",
    "    def mid(self, mid):\n",
    "        self.__mid = mid\n",
    "    \n",
    "    @property\n",
    "    def adc(self): \n",
    "        return self.__adc\n",
    "\n",
    "    @adc.setter \n",
    "    def adc(self, adc):\n",
    "        self.__adc = adc\n",
    "    \n",
    "    @property\n",
    "    def sup(self): \n",
    "        return self.__sup\n",
    "\n",
    "    @sup.setter \n",
    "    def sup(self, sup):\n",
    "        self.__sup = sup\n",
    "    \n",
    "    @property\n",
    "    def avg_mmr(self): \n",
    "        return self.__avg_mmr\n",
    "    \n",
    "    @avg_mmr.setter \n",
    "    def avg_mmr(self, avg_mmr):\n",
    "        self.__avg_mmr = avg_mmr\n",
    "    \n",
    "    @property\n",
    "    def arr_team(self): \n",
    "        return self.__arr_team\n",
    "\n",
    "    def calculate_avg_mmr(self):\n",
    "        if self.top and self.jg and self.mid and self.adc and self.sup:\n",
    "            total_mmr = self.top.mmr + self.jg.mmr + self.mid.mmr + self.adc.mmr + self.sup.mmr\n",
    "            self.avg_mmr = total_mmr / 5\n",
    "            return self.avg_mmr\n",
    "    \n",
    "    # We store the type Player objects inside the array\n",
    "    def create_arr_team(self):\n",
    "        if self.top and self.jg and self.mid and self.adc and self.sup:\n",
    "            self.arr_team([self.top, self.jg, self.mid, self.adc, self.sup])\n",
    "\n",
    "    def __str__(self):\n",
    "        return '\\ntop: {}\\njg: {}\\nmid: {}\\nadc: {}\\nsup: {}'.format(self.top.user, self.jg.user, self.mid.user, self.adc.user, self.sup.user)"
   ]
  },
  {
   "cell_type": "code",
   "execution_count": 44,
   "metadata": {},
   "outputs": [
    {
     "name": "stdout",
     "output_type": "stream",
     "text": [
      "\n",
      "top: nigaalan\n",
      "jg: Johiliwisky18\n",
      "mid: Osiris\n",
      "adc: pinguinodelanasa\n",
      "sup: Charls Alonso\n"
     ]
    }
   ],
   "source": [
    "t1 = Team(1)\n",
    "t2 = Team(2)\n",
    "t1.top = p4\n",
    "t1.jg = p3\n",
    "t1.mid = p5\n",
    "t1.adc = p1\n",
    "t1.sup = p2\n",
    "t2.top = p4\n",
    "t2.jg = p3\n",
    "t2.mid = p5\n",
    "t2.adc = p1\n",
    "t2.sup = p2\n",
    "print(t1)"
   ]
  },
  {
   "cell_type": "markdown",
   "metadata": {},
   "source": [
    "### Class Match\n",
    "Class that represents a match between two teams. These are red and blue team, they should have almost the same MMR average."
   ]
  },
  {
   "cell_type": "code",
   "execution_count": 45,
   "metadata": {},
   "outputs": [
    {
     "name": "stdout",
     "output_type": "stream",
     "text": [
      "\n",
      "Red Team\n",
      "Average MMR: 1248.176\n",
      "top: nigaalan\n",
      "jg: Johiliwisky18\n",
      "mid: Osiris\n",
      "adc: pinguinodelanasa\n",
      "sup: Charls Alonso\n",
      "\n",
      "Blue Team\n",
      "Average MMR: 1248.176\n",
      "top: nigaalan\n",
      "jg: Johiliwisky18\n",
      "mid: Osiris\n",
      "adc: pinguinodelanasa\n",
      "sup: Charls Alonso\n"
     ]
    }
   ],
   "source": [
    "m = Match(1, t1, t2)\n",
    "print(m)"
   ]
  },
  {
   "cell_type": "markdown",
   "metadata": {},
   "source": [
    "### Class Link\n",
    "Class that represents a single link of a linked list"
   ]
  },
  {
   "cell_type": "code",
   "execution_count": 46,
   "metadata": {},
   "outputs": [],
   "source": [
    "class Link:\n",
    "    def __init__(self, value=None):\n",
    "        self.value = value\n",
    "        self.next = None"
   ]
  },
  {
   "cell_type": "markdown",
   "metadata": {},
   "source": [
    "### Class SLinkedList\n",
    "There are not linked lists in Python, so this abstract class represents a single linked list."
   ]
  },
  {
   "cell_type": "code",
   "execution_count": 47,
   "metadata": {},
   "outputs": [],
   "source": [
    "class SLinkedList:\n",
    "    def __init__(self):\n",
    "        self.head = None\n",
    "    \n",
    "    def insert_end(self, newdata):\n",
    "        new_link = Link(newdata)\n",
    "        if self.head is None:\n",
    "            self.head = new_link\n",
    "            return\n",
    "        laste = self.head\n",
    "        while(laste.next):\n",
    "            laste = laste.next\n",
    "        laste.next=new_link\n",
    "\n",
    "    def remove(self, key):\n",
    "        head_value = self.head\n",
    "\n",
    "        if (head_value is not None):\n",
    "            if (head_value.value == key):\n",
    "                self.head = head_value.next\n",
    "                head_value = None\n",
    "                return\n",
    "\n",
    "        while (head_value is not None):\n",
    "            if head_value.value == key:\n",
    "                break\n",
    "            prev = head_value\n",
    "            head_value = head_value.next\n",
    "\n",
    "        if (head_value == None):\n",
    "            return\n",
    "\n",
    "        prev.next = head_value.next\n",
    "        head_value = None\n",
    "\n",
    "    def print_list(self):\n",
    "        printval = self.head\n",
    "        while printval is not None:\n",
    "            print (printval.value)\n",
    "            printval = printval.next"
   ]
  },
  {
   "cell_type": "markdown",
   "metadata": {},
   "source": [
    "### Class Queue\n",
    "Class that is the linked list where the players are added to wait for a match. This class inherits from SLinkedList."
   ]
  },
  {
   "cell_type": "code",
   "execution_count": 48,
   "metadata": {},
   "outputs": [
    {
     "name": "stdout",
     "output_type": "stream",
     "text": [
      "\n",
      "pinguinodelanasa\n",
      "Bronze 1\n",
      "Level 150\n",
      "Win Rate: 55%\n",
      "Primary lane: adc\n",
      "Secondary lane: jg\n",
      "\n",
      "Charls Alonso\n",
      "Bronze 2\n",
      "Level 146\n",
      "Win Rate: 50%\n",
      "Primary lane: sup\n",
      "Secondary lane: top\n",
      "\n",
      "Johiliwisky18\n",
      "Silver 3\n",
      "Level 98\n",
      "Win Rate: 58%\n",
      "Primary lane: jg\n",
      "Secondary lane: mid\n",
      "\n",
      "nigaalan\n",
      "Gold 4\n",
      "Level 159\n",
      "Win Rate: 56%\n",
      "Primary lane: top\n",
      "Secondary lane: jg\n",
      "\n",
      "Osiris\n",
      "Gold 1\n",
      "Level 365\n",
      "Win Rate: 60%\n",
      "Primary lane: mid\n",
      "Secondary lane: adc\n"
     ]
    }
   ],
   "source": [
    "q1 = Queue('Silver')\n",
    "q1.insert_end(p1)\n",
    "q1.insert_end(p2)\n",
    "q1.insert_end(p3)\n",
    "q1.insert_end(p4)\n",
    "q1.insert_end(p5)\n",
    "q1.print_list()"
   ]
  },
  {
   "cell_type": "markdown",
   "metadata": {},
   "source": [
    "### Generating random players\n",
    "There is the function for creating random players following the next probability distribution"
   ]
  },
  {
   "cell_type": "code",
   "execution_count": 49,
   "metadata": {},
   "outputs": [
    {
     "data": {
      "image/jpeg": "[encoded data removed]",
      "text/plain": [
       "<IPython.core.display.Image object>"
      ]
     },
     "execution_count": 49,
     "metadata": {},
     "output_type": "execute_result"
    }
   ],
   "source": [
    "Image(\"resources/rank_dist.jpg\")"
   ]
  },
  {
   "cell_type": "code",
   "execution_count": 50,
   "metadata": {},
   "outputs": [],
   "source": [
    "# List of possible usernames\n",
    "users = ['Edgar', 'Pablo', 'Gerardo', 'Diego', 'Mariana', 'Carolina', 'Catherine', 'Gabo', 'Ivan', 'Luisa', 'Nahibi', 'Isabella', 'Brenda']\n",
    "# List of possible positions\n",
    "lanes = ['top', 'jg', 'mid', 'adc', 'sup']\n",
    "# Probability distribution function of the MMR of 100,000 online players \n",
    "mmr = 1350 + 320 * np.random.randn(100000)\n",
    "# Probability distribution function of the Win Rate of 100,000 online players \n",
    "wr = 50 + 8 * np.random.randn(100000)"
   ]
  },
  {
   "cell_type": "code",
   "execution_count": 51,
   "metadata": {},
   "outputs": [
    {
     "data": {
      "text/plain": [
       "Text(0.5,1,'MMR Distribution of Players Online')"
      ]
     },
     "execution_count": 51,
     "metadata": {},
     "output_type": "execute_result"
    },
    {
     "data": {
      "image/png": "[encoded data removed]",
      "text/plain": [
       "<matplotlib.figure.Figure at 0x189a339bda0>"
      ]
     },
     "metadata": {
      "needs_background": "light"
     },
     "output_type": "display_data"
    }
   ],
   "source": [
    "# Showing the histogram of the random generation MMR of online players\n",
    "k = int(np.ceil(1+np.log2(100000)))\n",
    "plt.hist(mmr, bins=k)\n",
    "plt.xlabel('MMR')\n",
    "plt.ylabel('Players number')\n",
    "plt.title('MMR Distribution of Players Online')"
   ]
  },
  {
   "cell_type": "code",
   "execution_count": 52,
   "metadata": {},
   "outputs": [
    {
     "data": {
      "text/plain": [
       "Text(0.5,1,'Win Rate Distribution of Players Online')"
      ]
     },
     "execution_count": 52,
     "metadata": {},
     "output_type": "execute_result"
    },
    {
     "data": {
      "image/png": "[encoded data removed]",
      "text/plain": [
       "<matplotlib.figure.Figure at 0x189a358a898>"
      ]
     },
     "metadata": {
      "needs_background": "light"
     },
     "output_type": "display_data"
    }
   ],
   "source": [
    "# Showing the histogram of the random generation Win Rate of online players\n",
    "k = int(np.ceil(1+np.log2(100000)))\n",
    "plt.hist(mmr, bins=k)\n",
    "plt.xlabel('Win Rate')\n",
    "plt.ylabel('Players number')\n",
    "plt.title('Win Rate Distribution of Players Online')"
   ]
  },
  {
   "cell_type": "code",
   "execution_count": 53,
   "metadata": {},
   "outputs": [],
   "source": [
    "# Function for generating random players following a normal distribution\n",
    "def generate_rand_player():\n",
    "    \n",
    "    # Selecting a random element of the possible results generated randomly\n",
    "    rand_mmr = round(np.random.choice(mmr), 2)\n",
    "    rand_wr = round(np.random.choice(wr), 2)\n",
    "    rand_rank = random.randint(1,4)\n",
    "    rand_user = '{}{}{}'.format(np.random.choice(users), random.randint(0,9), random.randint(0,9))\n",
    "    rand_level = random.randint(30, 550)\n",
    "    rand_p_lane = np.random.choice(lanes)\n",
    "\n",
    "    while(True):\n",
    "        rand_s_lane = np.random.choice(lanes)\n",
    "        if rand_p_lane != rand_s_lane:\n",
    "            break\n",
    "    \n",
    "    # Creating a player with the choiced statistics based on the selected random MMR \n",
    "    if rand_mmr < 800:\n",
    "        p = Player(rand_user, rand_level, rand_wr, 'Iron', rand_rank, True, rand_p_lane, rand_s_lane)\n",
    "    elif 800 <= rand_mmr < 1000:\n",
    "        p = Player(rand_user, rand_level, rand_wr, 'Bronze', rand_rank, True, rand_p_lane, rand_s_lane)\n",
    "    elif 1000 <= rand_mmr < 1200:\n",
    "        p = Player(rand_user, rand_level, rand_wr, 'Silver', rand_rank, True, rand_p_lane, rand_s_lane)\n",
    "    elif 1200 <= rand_mmr < 1500:\n",
    "        p = Player(rand_user, rand_level, rand_wr, 'Gold', rand_rank, True, rand_p_lane, rand_s_lane)\n",
    "    elif 1500 <= rand_mmr < 1800:\n",
    "        p = Player(rand_user, rand_level, rand_wr, 'Platinum', rand_rank, True, rand_p_lane, rand_s_lane)\n",
    "    elif 1800 <= rand_mmr < 2200:\n",
    "        p = Player(rand_user, rand_level, rand_wr, 'Diamond', rand_rank, True, rand_p_lane, rand_s_lane)\n",
    "    elif 2200 <= rand_mmr < 2400:\n",
    "        p = Player(rand_user, rand_level, rand_wr, 'Master', None, True, rand_p_lane, rand_s_lane)\n",
    "    elif 2400 <= rand_mmr < 2600:\n",
    "        p = Player(rand_user, rand_level, rand_wr, 'Grand Master', None, True, rand_p_lane, rand_s_lane)\n",
    "    elif rand_mmr >= 2600:\n",
    "        p = Player(rand_user, rand_level, rand_wr, 'Challenger', None, True, rand_p_lane, rand_s_lane)\n",
    "    return p"
   ]
  },
  {
   "cell_type": "code",
   "execution_count": 54,
   "metadata": {},
   "outputs": [],
   "source": [
    "# We will create a silver queue for inserting the players that are around the respective MMR\n",
    "q = Queue('Silver')\n",
    "\n",
    "# Generate 10,000 random players, the ones whose MMR is around silver will enter to the queue\n",
    "for i in range(0,10000):\n",
    "    p = generate_rand_player()\n",
    "    if 1000 <= p.mmr < 1200:\n",
    "        q.insert_end(p)"
   ]
  },
  {
   "cell_type": "code",
   "execution_count": 55,
   "metadata": {},
   "outputs": [],
   "source": [
    "# Create two teams for a match\n",
    "t1 = Team(1)\n",
    "t2 = Team(2)"
   ]
  },
  {
   "cell_type": "code",
   "execution_count": 56,
   "metadata": {},
   "outputs": [],
   "source": [
    "# The method form_team() takes the players in the queue based on the positions left for creating a team\n",
    "q.form_team(t1)\n",
    "q.form_team(t2)"
   ]
  },
  {
   "cell_type": "code",
   "execution_count": 57,
   "metadata": {},
   "outputs": [
    {
     "name": "stdout",
     "output_type": "stream",
     "text": [
      "Red Team\n",
      "\n",
      "Edgar82\n",
      "Silver 3\n",
      "Level 333\n",
      "Win Rate: 45.88%\n",
      "Primary lane: top\n",
      "Secondary lane: jg\n",
      "\n",
      "Carolina23\n",
      "Bronze 1\n",
      "Level 160\n",
      "Win Rate: 51.43%\n",
      "Primary lane: mid\n",
      "Secondary lane: adc\n",
      "\n",
      "Edgar46\n",
      "Silver 1\n",
      "Level 64\n",
      "Win Rate: 46.49%\n",
      "Primary lane: jg\n",
      "Secondary lane: sup\n",
      "\n",
      "Ivan63\n",
      "Silver 2\n",
      "Level 363\n",
      "Win Rate: 49.15%\n",
      "Primary lane: adc\n",
      "Secondary lane: jg\n",
      "\n",
      "Pablo09\n",
      "Silver 2\n",
      "Level 212\n",
      "Win Rate: 44.21%\n",
      "Primary lane: sup\n",
      "Secondary lane: jg\n",
      "\n",
      "Blue Team\n",
      "\n",
      "Ivan68\n",
      "Silver 2\n",
      "Level 532\n",
      "Win Rate: 44.37%\n",
      "Primary lane: top\n",
      "Secondary lane: sup\n",
      "\n",
      "Catherine88\n",
      "Silver 3\n",
      "Level 85\n",
      "Win Rate: 47.42%\n",
      "Primary lane: mid\n",
      "Secondary lane: jg\n",
      "\n",
      "Ivan16\n",
      "Bronze 2\n",
      "Level 38\n",
      "Win Rate: 51.07%\n",
      "Primary lane: jg\n",
      "Secondary lane: sup\n",
      "\n",
      "Isabella17\n",
      "Silver 4\n",
      "Level 370\n",
      "Win Rate: 43.53%\n",
      "Primary lane: adc\n",
      "Secondary lane: sup\n",
      "\n",
      "Pablo89\n",
      "Silver 4\n",
      "Level 319\n",
      "Win Rate: 45.55%\n",
      "Primary lane: sup\n",
      "Secondary lane: top\n",
      "\n",
      "\n",
      "Red Team\n",
      "Average MMR: 1101.3659199999997\n",
      "top: Edgar82\n",
      "jg: Edgar46\n",
      "mid: Carolina23\n",
      "adc: Ivan63\n",
      "sup: Pablo09\n",
      "\n",
      "Blue Team\n",
      "Average MMR: 1050.6142399999999\n",
      "top: Ivan68\n",
      "jg: Ivan16\n",
      "mid: Catherine88\n",
      "adc: Isabella17\n",
      "sup: Pablo89\n"
     ]
    }
   ],
   "source": [
    "# Finally, we create a match with the teams already formed\n",
    "m = Match(1, t1, t2)\n",
    "m.print_match_stats()\n",
    "print(m)"
   ]
  },
  {
   "cell_type": "markdown",
   "metadata": {},
   "source": [
    "We can see the matchmaking for a silver ranked solo duo game! "
   ]
  }
 ],
 "metadata": {
  "kernelspec": {
   "display_name": "Python 3",
   "language": "python",
   "name": "python3"
  },
  "language_info": {
   "codemirror_mode": {
    "name": "ipython",
    "version": 3
   },
   "file_extension": ".py",
   "mimetype": "text/x-python",
   "name": "python",
   "nbconvert_exporter": "python",
   "pygments_lexer": "ipython3",
   "version": "3.5.5"
  }
 },
 "nbformat": 4,
 "nbformat_minor": 4
}
